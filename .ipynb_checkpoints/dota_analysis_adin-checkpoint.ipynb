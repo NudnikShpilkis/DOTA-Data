{
 "cells": [
  {
   "cell_type": "markdown",
   "metadata": {},
   "source": [
    "## Analyzing Dota Data\n",
    "Isaac Haberman (Ihaberma) and Adin Adler (aadler)\n",
    "\n"
   ]
  },
  {
   "cell_type": "markdown",
   "metadata": {},
   "source": [
    "## Introduction\n",
    "\n",
    "For our final project we will be analyzing the video game Defense of the Ancients 2 DOTA for short. For a full explanation of the game and further resources go to http://dota2.gamepedia.com/Dota_2. DOTA is game played by ten players, five per team, who compete in matches that generally last forty-five minutes in length. Before each match, players choose a unique hero without replacement from a pool of one hundred thirteen heroes.  Throughout the match players earns gold and experience which help them win.  Gold and experience are reset after each match.\n",
    "\n",
    "We will be analyzing the data from two CSV files from Feedless, `MatchOverview` and `MatchDetail`. \n",
    "\n",
    "`MatchOverview` contains 23875 rows, each row corresponding to a unique match. The data frame contains 12 columns, grouped by the match id.\n",
    "\n",
    "* The first column identifies the match, usually a large number like 2503037971.\n",
    "\n",
    "* The next ten columns contain the heroes picked in the match, columns one through five represent team zero, columns six through ten represent team one. The columns can contain any integer 1-113 inclusive.\n",
    "\n",
    "* The final column is a boolean variable representing the winning team; 0 if team zero won and 1 if team one won.\n",
    "\n",
    "`MatchDetail` contains 202319 rows and 23 columns containing data on the experience and gold for a player at 5 minute intervals up to 45 minutes.  For example `e_5` represents experience of a player at the 5 minute mark and `g_5` represents gold of a player at the 5 minute mark. \n",
    "\n",
    "* The first 3 columns identify the player, character and match id\n",
    "\n",
    "* The next 10 columns detail the experience values at 5 minute intervals, from 0 minutes to 45 minutes inclusive.\n",
    "\n",
    "* The final 10 columns detail the gold values at 5 minute intervals, from 0 minutes to 45 minutes inclusive.\n"
   ]
  },
  {
   "cell_type": "markdown",
   "metadata": {},
   "source": [
    "## Our Goal\n",
    "\n",
    "Our goal for this project is to identify the best model for predicting victory in a DOTA match. "
   ]
  },
  {
   "cell_type": "code",
   "execution_count": 3,
   "metadata": {
    "collapsed": false
   },
   "outputs": [],
   "source": [
    "import pandas as pd\n",
    "import numpy as np\n",
    "from collections import Counter\n",
    "import matplotlib.pyplot as plt\n",
    "%matplotlib inline\n",
    "from ggplot import *\n"
   ]
  },
  {
   "cell_type": "markdown",
   "metadata": {},
   "source": [
    "we begin our analysis by loading the data and printing out some information on each of the data sets"
   ]
  },
  {
   "cell_type": "code",
   "execution_count": 4,
   "metadata": {
    "collapsed": false
   },
   "outputs": [
    {
     "name": "stdout",
     "output_type": "stream",
     "text": [
      "match_id         int64\n",
      "hero_1           int64\n",
      "hero_2         float64\n",
      "hero_3         float64\n",
      "hero_4         float64\n",
      "hero_5         float64\n",
      "hero_6         float64\n",
      "hero_7         float64\n",
      "hero_8         float64\n",
      "hero_9         float64\n",
      "hero_10        float64\n",
      "first_5_won     object\n",
      "dtype: object\n",
      "---------\n",
      "match_id       int64\n",
      "hero_id      float64\n",
      "player_id    float64\n",
      "e_0          float64\n",
      "e_5          float64\n",
      "e_10         float64\n",
      "e_15         float64\n",
      "e_20         float64\n",
      "e_25         float64\n",
      "e_30         float64\n",
      "e_35         float64\n",
      "e_40         float64\n",
      "e_45         float64\n",
      "g_0          float64\n",
      "g_5          float64\n",
      "g_10         float64\n",
      "g_15         float64\n",
      "g_20         float64\n",
      "g_25         float64\n",
      "g_30         float64\n",
      "g_35         float64\n",
      "g_40         float64\n",
      "g_45         float64\n",
      "dtype: object\n",
      "     match_id  hero_1  hero_2  hero_3  hero_4  hero_5  hero_6  hero_7  hero_8  \\\n",
      "0  2488245920      34    83.0    29.0   102.0    12.0    88.0   107.0    10.0   \n",
      "1  2488233366     102    63.0    34.0   100.0    60.0     1.0    38.0    48.0   \n",
      "2  2488231318       7   112.0     8.0    64.0    71.0     1.0    11.0    41.0   \n",
      "3  2488216163      74   102.0     9.0    29.0    14.0   105.0    86.0    65.0   \n",
      "4  2488215113      51    68.0    79.0    15.0    10.0    85.0    28.0    91.0   \n",
      "\n",
      "   hero_9  hero_10 first_5_won  \n",
      "0    70.0     53.0        True  \n",
      "1    93.0     33.0       False  \n",
      "2   102.0     92.0        True  \n",
      "3    55.0    111.0        True  \n",
      "4   102.0     89.0        True  \n",
      "---------\n",
      "     match_id  hero_id  player_id  e_0     e_5    e_10    e_15    e_20  \\\n",
      "0  2488125718    102.0        0.0  0.0  1125.0  2598.0  3898.0  7084.0   \n",
      "1  2488125718     42.0        1.0  0.0   990.0  2414.0  4234.0  6323.0   \n",
      "2  2488125718     46.0        2.0  0.0  1389.0  3756.0  6280.0  8066.0   \n",
      "3  2488125718      7.0        3.0  0.0  1021.0  3138.0  4505.0  5962.0   \n",
      "4  2488125718      8.0        4.0  0.0   717.0  2204.0  3684.0  6036.0   \n",
      "\n",
      "      e_25     e_30   ...     g_0     g_5    g_10    g_15    g_20    g_25  \\\n",
      "0  10870.0  12375.0   ...     1.0  1729.0  2981.0  4582.0  6134.0  9139.0   \n",
      "1  11620.0  14179.0   ...     1.0  1402.0  2756.0  4433.0  6193.0  9140.0   \n",
      "2  10638.0  12636.0   ...     1.0  1252.0  2883.0  4573.0  5978.0  8586.0   \n",
      "3   9288.0  10616.0   ...     1.0  1156.0  2758.0  3987.0  5043.0  8220.0   \n",
      "4   9353.0  11611.0   ...     1.0   711.0  1577.0  3186.0  5100.0  7830.0   \n",
      "\n",
      "      g_30     g_35     g_40     g_45  \n",
      "0  10369.0  13031.0  16101.0  20492.0  \n",
      "1  10944.0  13240.0  16986.0  21189.0  \n",
      "2  10030.0  11675.0  15951.0  22944.0  \n",
      "3   9274.0  12389.0  15420.0  20381.0  \n",
      "4   9575.0  13526.0  17632.0  23432.0  \n",
      "\n",
      "[5 rows x 23 columns]\n"
     ]
    }
   ],
   "source": [
    "def load_data(file1,file2):\n",
    "    overview = pd.read_csv(file1)\n",
    "    detail = pd.read_csv(file2)\n",
    "    return overview,detail\n",
    "\n",
    "overview,detail = load_data(\"MatchOverview.csv\",\"MatchDetail.csv\")\n",
    "\n",
    "print overview.dtypes\n",
    "print \"---------\"\n",
    "print detail.dtypes\n",
    "\n",
    "print overview.head()\n",
    "print \"---------\"\n",
    "print detail.head()\n",
    "    "
   ]
  },
  {
   "cell_type": "markdown",
   "metadata": {},
   "source": [
    "In order to better analyze the data, we merged the two data frames into one data frame aptly named `df`.  Using pandas's `merge` we were able to merge the two data sets on `match_id` and remove all match id's that did not have a corollary in the other data set.  Our new data set is grouped by both match id, player id and character id. Unfortunately, each row has an extra column, as both data frames have the player id of the row."
   ]
  },
  {
   "cell_type": "code",
   "execution_count": 5,
   "metadata": {
    "collapsed": false
   },
   "outputs": [
    {
     "name": "stdout",
     "output_type": "stream",
     "text": [
      "Unique match id's: 202319\n",
      "df.dtypes: match_id         int64\n",
      "hero_1           int64\n",
      "hero_2         float64\n",
      "hero_3         float64\n",
      "hero_4         float64\n",
      "hero_5         float64\n",
      "hero_6         float64\n",
      "hero_7         float64\n",
      "hero_8         float64\n",
      "hero_9         float64\n",
      "hero_10        float64\n",
      "first_5_won     object\n",
      "hero_id        float64\n",
      "player_id      float64\n",
      "e_0            float64\n",
      "e_5            float64\n",
      "e_10           float64\n",
      "e_15           float64\n",
      "e_20           float64\n",
      "e_25           float64\n",
      "e_30           float64\n",
      "e_35           float64\n",
      "e_40           float64\n",
      "e_45           float64\n",
      "g_0            float64\n",
      "g_5            float64\n",
      "g_10           float64\n",
      "g_15           float64\n",
      "g_20           float64\n",
      "g_25           float64\n",
      "g_30           float64\n",
      "g_35           float64\n",
      "g_40           float64\n",
      "g_45           float64\n",
      "dtype: object\n",
      "----------\n",
      "          match_id  hero_1  hero_2  hero_3  hero_4  hero_5  hero_6  hero_7  \\\n",
      "202314  2502981287     104    83.0    88.0    53.0    15.0    39.0    31.0   \n",
      "202315  2502981287     104    83.0    88.0    53.0    15.0    39.0    31.0   \n",
      "202316  2502981287     104    83.0    88.0    53.0    15.0    39.0    31.0   \n",
      "202317  2502981287     104    83.0    88.0    53.0    15.0    39.0    31.0   \n",
      "202318  2502981287     104    83.0    88.0    53.0    15.0    39.0    31.0   \n",
      "\n",
      "        hero_8  hero_9   ...     g_0     g_5    g_10    g_15    g_20     g_25  \\\n",
      "202314    93.0    18.0   ...     1.0  1155.0  3022.0  4449.0  6337.0  10910.0   \n",
      "202315    93.0    18.0   ...     1.0   538.0  1249.0  2669.0  4042.0   4723.0   \n",
      "202316    93.0    18.0   ...     1.0  1457.0  3094.0  4428.0  6319.0   8297.0   \n",
      "202317    93.0    18.0   ...     1.0   929.0  1741.0  3321.0  4522.0   5573.0   \n",
      "202318    93.0    18.0   ...     1.0   622.0  1206.0  3239.0  4479.0   7215.0   \n",
      "\n",
      "           g_30     g_35     g_40     g_45  \n",
      "202314  14093.0  18990.0  22260.0  25535.0  \n",
      "202315   6501.0   9251.0  10519.0  12400.0  \n",
      "202316  10199.0  13878.0  16612.0  19075.0  \n",
      "202317   6962.0   9454.0  12149.0  13461.0  \n",
      "202318  11041.0  14100.0  16437.0  20394.0  \n",
      "\n",
      "[5 rows x 34 columns]\n",
      "20232\n"
     ]
    }
   ],
   "source": [
    "#print \"this is the number of unique match_ids in the overview dataframe.\"\n",
    "#print len(overview['match_id'].unique())\n",
    "\n",
    "#print \"this is the number of unique match_ids in the detail dataframe.\"\n",
    "#print len(detail['match_id'].unique())\n",
    "\n",
    "#print \"in this case the intersect happens to be the components of the detail match_id column.\"\n",
    "#print len(np.intersect1d(detail['match_id'].unique(),overview['match_id'].unique()))\n",
    "\n",
    "df = overview.merge(detail,on=\"match_id\")\n",
    "#print \"once we merge the two columns we only have matches that exist in both dataframes.\"\n",
    "print \"Unique match id's:\", len(df)\n",
    "print \"df.dtypes:\", df.dtypes\n",
    "print \"----------\"\n",
    "#print \"notice how a lot of columns are repeated. For each player in a game they have their own row in the detail csv.\"\n",
    "#print \"as a result the lines of the overview csv are repeated.\"\n",
    "print df.tail(5)\n",
    "print len(df['match_id'].unique())\n",
    "\n",
    "\n"
   ]
  },
  {
   "cell_type": "markdown",
   "metadata": {},
   "source": [
    "We then cleaned our data by:\n",
    "\n",
    "* Tallying how many wins each team had. When we split our data set into training and testing data, we can preserve the ratio of wins to losses for team.  This avoids the rare case where our training set is entirely one team winning, which would obviously ruin predictions.\n",
    "* We set `hero_id` and `player_id` to strings, so they will be interpreted as factors and not as quantatative variables.\n",
    "* Reset experience and gold columns that are greater than match time to the last non-zero time amount.  This removes zeros that may invalidate our correlations and regressions.\n",
    "* Changed `player_id` to `team_id`, a binary variable representing team, as we are interested in team performances and not individual performances."
   ]
  },
  {
   "cell_type": "code",
   "execution_count": 9,
   "metadata": {
    "collapsed": false
   },
   "outputs": [
    {
     "name": "stdout",
     "output_type": "stream",
     "text": [
      "7.0    20232\n",
      "6.0    20232\n",
      "5.0    20232\n",
      "4.0    20232\n",
      "3.0    20232\n",
      "2.0    20232\n",
      "1.0    20232\n",
      "0.0    20232\n",
      "9.0    20231\n",
      "8.0    20231\n",
      "Name: player_id, dtype: int64\n"
     ]
    }
   ],
   "source": [
    "def clean_data(tempdf):\n",
    "    newdf = tempdf\n",
    "    newdf = newdf.assign(team = newdf.apply(lambda x: 0 if x.player_id < 5 else 1,axis=1))\n",
    "    newdf[['hero_1','hero_2','hero_3','hero_4','hero_5','hero_6','hero_7','hero_8','hero_9','hero_10','hero_id']] = newdf[['hero_1','hero_2','hero_3','hero_4','hero_5','hero_6','hero_7','hero_8','hero_9','hero_10','hero_id']].astype(str)\n",
    "    #on this line we can check to make sure every game has a full roster of players (having 10 players).\n",
    "    #print \"We want to make sure each id occurs the same number of times\"\n",
    "    print df['player_id'].value_counts()\n",
    "    #When we run the above line we see that there is at least 1 game without a full roster!\n",
    "    C = Counter(newdf['match_id'])\n",
    "    less = [x for x in C.keys() if C[x] < 10]\n",
    "    #print \"So it turns out we only have %d ID that doesn't show up 10 times\" % (len(less))\n",
    "    #print \"Previously our dataframe had %d lines\" % len(newdf)\n",
    "    newdf = newdf[newdf['match_id'] != less[0]]\n",
    "    #Once we emilinate these rows we have only full game data!\n",
    "    #print \"now we have %d lines\" % len(newdf)\n",
    "    \n",
    "    #Now we want to change all values of 0 after the match ends into the last non-zero value\n",
    "    newdf = newdf.apply(lambda x: set_zero(x),axis=1)\n",
    "    \n",
    "    #We want to count the number of games each team wins\n",
    "    counts = newdf['first_5_won'].value_counts()\n",
    "    newdf.to_csv(\"output.csv\")\n",
    "    return newdf,counts\n",
    "\n",
    "#There has to be a better way to do this but I have not thought it up\n",
    "def set_zero(row):\n",
    "    value = 5\n",
    "    while value <= 40:\n",
    "        e1 = 'e_' + str(value+5)\n",
    "        e2 = 'e_' + str(value)\n",
    "        g1 = 'g_' + str(value+5)\n",
    "        g2 = 'g_' + str(value)\n",
    "        if row[e1] == 0:\n",
    "            row[e1] = row[e2]\n",
    "            row[g1] = row[g2]\n",
    "        value += 5\n",
    "    return row\n",
    "\n",
    "overview,detail = load_data(\"MatchOverview.csv\",\"MatchDetail.csv\")\n",
    "df = overview.merge(detail,on=\"match_id\")\n",
    "df,counts = clean_data(df) "
   ]
  },
  {
   "cell_type": "code",
   "execution_count": null,
   "metadata": {
    "collapsed": true
   },
   "outputs": [],
   "source": []
  },
  {
   "cell_type": "code",
   "execution_count": null,
   "metadata": {
    "collapsed": true
   },
   "outputs": [],
   "source": []
  }
 ],
 "metadata": {
  "anaconda-cloud": {},
  "kernelspec": {
   "display_name": "Python [Root]",
   "language": "python",
   "name": "Python [Root]"
  },
  "language_info": {
   "codemirror_mode": {
    "name": "ipython",
    "version": 2
   },
   "file_extension": ".py",
   "mimetype": "text/x-python",
   "name": "python",
   "nbconvert_exporter": "python",
   "pygments_lexer": "ipython2",
   "version": "2.7.12"
  }
 },
 "nbformat": 4,
 "nbformat_minor": 0
}
